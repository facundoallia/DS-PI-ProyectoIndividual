{
 "cells": [
  {
   "cell_type": "markdown",
   "metadata": {},
   "source": [
    "### 1. Importación de librerias utilizadas en el análisis:"
   ]
  },
  {
   "cell_type": "code",
   "execution_count": 3,
   "metadata": {},
   "outputs": [],
   "source": [
    "import pandas as pd\n",
    "import numpy as np\n",
    "import seaborn as sns\n",
    "import matplotlib.pyplot as plt"
   ]
  },
  {
   "cell_type": "markdown",
   "metadata": {},
   "source": [
    "### 2. Lectura de archivos CSV:"
   ]
  },
  {
   "cell_type": "code",
   "execution_count": 23,
   "metadata": {},
   "outputs": [],
   "source": [
    "clientes = pd.read_csv(\"Clientes.csv\", delimiter=\";\")\n",
    "sucursales = pd.read_csv(\"Sucursales.csv\", delimiter=\";\")\n",
    "localidades = pd.read_csv(\"Localidades.csv\", delimiter=\",\")\n",
    "compras = pd.read_csv(\"Compra.csv\", delimiter=\",\", encoding = \"UTF-8\")\n",
    "gastos = pd.read_csv(\"Gasto.csv\", delimiter=\",\")\n",
    "proveedores = pd.read_csv(\"Proveedores.csv\", delimiter=\",\", encoding = \"cp1252\")\n",
    "ventas = pd.read_csv(\"Venta.csv\", delimiter=\",\")\n",
    "canal_venta = pd.read_excel(\"CanalDeVenta.xlsx\")\n",
    "tipo_gasto = pd.read_csv(\"TiposDeGasto.csv\", delimiter=\",\")"
   ]
  },
  {
   "cell_type": "code",
   "execution_count": 49,
   "metadata": {},
   "outputs": [],
   "source": [
    "clientes_delta = pd.read_csv(\"Clientes.csv\", delimiter=\";\")\n",
    "ventas_delta = pd.read_csv(\"Venta.csv\", delimiter=\",\")"
   ]
  },
  {
   "cell_type": "markdown",
   "metadata": {},
   "source": [
    "### 3. Preparación de los datos"
   ]
  },
  {
   "cell_type": "markdown",
   "metadata": {},
   "source": [
    "Tabla Clientes:"
   ]
  },
  {
   "cell_type": "code",
   "execution_count": 24,
   "metadata": {},
   "outputs": [
    {
     "data": {
      "text/plain": [
       "IdCliente            0\n",
       "Nombre y Apellido    0\n",
       "Edad                 0\n",
       "Telefono             0\n",
       "Direccion            0\n",
       "Localidad            0\n",
       "Provincia            0\n",
       "Latitud              0\n",
       "Longitud             0\n",
       "dtype: int64"
      ]
     },
     "execution_count": 24,
     "metadata": {},
     "output_type": "execute_result"
    }
   ],
   "source": [
    "#Eliminación de la columna \"col10\"\n",
    "clientes = clientes.drop(\"col10\",axis=1)\n",
    "\n",
    "#Renombramiento de columnas X e Y\n",
    "clientes.columns = [\"IdCliente\",\"Provincia\",\"Nombre y Apellido\",\"Direccion\",\"Telefono\",\"Edad\",\"Localidad\",\"Longitud\",\"Latitud\"]\n",
    "\n",
    "#Cambio de orden de las columnas\n",
    "clientes = clientes[[\"IdCliente\",\"Nombre y Apellido\",\"Edad\",\"Telefono\",\"Direccion\",\"Localidad\",\"Provincia\",\"Latitud\",\"Longitud\"]]\n",
    "\n",
    "# Eliminación/reemplazo de caracteres innecesarios \n",
    "clientes[\"Telefono\"] = clientes[\"Telefono\"].replace({'-':''}, regex=True)\n",
    "clientes[\"Telefono\"] = clientes[\"Telefono\"].replace({' ':''}, regex=True)\n",
    "clientes[\"Direccion\"] = clientes[\"Direccion\"].replace({'-':''}, regex=True)\n",
    "clientes[\"Latitud\"] = clientes[\"Latitud\"].replace({',':'.'}, regex=True)\n",
    "clientes[\"Longitud\"] = clientes[\"Longitud\"].replace({',':'.'}, regex=True)\n",
    "\n",
    "#Normalizacion a Letra Capital\n",
    "clientes[\"Nombre y Apellido\"] = clientes[\"Nombre y Apellido\"].str.title()\n",
    "clientes[\"Direccion\"] = clientes[\"Direccion\"].str.title() \n",
    "clientes[\"Localidad\"] = clientes[\"Localidad\"].str.title()\n",
    "clientes[\"Provincia\"] = clientes[\"Provincia\"].str.title()\n",
    "\n",
    "#Imputar Valores Faltantes\n",
    "clientes[\"Nombre y Apellido\"].fillna(\"Sin dato\", inplace=True)\n",
    "clientes[\"Edad\"].fillna(\"Sin dato\", inplace=True)\n",
    "clientes[\"Telefono\"].fillna(\"Sin dato\", inplace=True)\n",
    "clientes[\"Direccion\"].fillna(\"Sin dato\", inplace=True)\n",
    "clientes[\"Localidad\"].fillna(\"Sin dato\", inplace=True)\n",
    "clientes[\"Provincia\"].fillna(\"Sin dato\", inplace=True)\n",
    "clientes[\"Latitud\"].fillna(\"Sin dato\", inplace=True)\n",
    "clientes[\"Longitud\"].fillna(\"Sin dato\", inplace=True)\n",
    "\n",
    "#Eliminación de valores duplicados\n",
    "clientes = clientes.drop_duplicates(\n",
    "    subset=['IdCliente'], keep=\"last\")\n",
    "clientes = clientes.drop_duplicates(\n",
    "    subset=['Nombre y Apellido'], keep=\"last\")\n",
    "\n",
    "\n",
    "clientes.isnull().sum()"
   ]
  },
  {
   "cell_type": "code",
   "execution_count": 52,
   "metadata": {},
   "outputs": [
    {
     "data": {
      "text/html": [
       "<div>\n",
       "<style scoped>\n",
       "    .dataframe tbody tr th:only-of-type {\n",
       "        vertical-align: middle;\n",
       "    }\n",
       "\n",
       "    .dataframe tbody tr th {\n",
       "        vertical-align: top;\n",
       "    }\n",
       "\n",
       "    .dataframe thead th {\n",
       "        text-align: right;\n",
       "    }\n",
       "</style>\n",
       "<table border=\"1\" class=\"dataframe\">\n",
       "  <thead>\n",
       "    <tr style=\"text-align: right;\">\n",
       "      <th></th>\n",
       "      <th>IdCliente</th>\n",
       "      <th>Edad</th>\n",
       "    </tr>\n",
       "  </thead>\n",
       "  <tbody>\n",
       "    <tr>\n",
       "      <th>count</th>\n",
       "      <td>2314.000000</td>\n",
       "      <td>2314.000000</td>\n",
       "    </tr>\n",
       "    <tr>\n",
       "      <th>mean</th>\n",
       "      <td>1287.712619</td>\n",
       "      <td>40.261884</td>\n",
       "    </tr>\n",
       "    <tr>\n",
       "      <th>std</th>\n",
       "      <td>734.438784</td>\n",
       "      <td>14.605510</td>\n",
       "    </tr>\n",
       "    <tr>\n",
       "      <th>min</th>\n",
       "      <td>1.000000</td>\n",
       "      <td>15.000000</td>\n",
       "    </tr>\n",
       "    <tr>\n",
       "      <th>25%</th>\n",
       "      <td>666.250000</td>\n",
       "      <td>28.000000</td>\n",
       "    </tr>\n",
       "    <tr>\n",
       "      <th>50%</th>\n",
       "      <td>1281.500000</td>\n",
       "      <td>41.000000</td>\n",
       "    </tr>\n",
       "    <tr>\n",
       "      <th>75%</th>\n",
       "      <td>1894.750000</td>\n",
       "      <td>53.000000</td>\n",
       "    </tr>\n",
       "    <tr>\n",
       "      <th>max</th>\n",
       "      <td>2672.000000</td>\n",
       "      <td>65.000000</td>\n",
       "    </tr>\n",
       "  </tbody>\n",
       "</table>\n",
       "</div>"
      ],
      "text/plain": [
       "         IdCliente         Edad\n",
       "count  2314.000000  2314.000000\n",
       "mean   1287.712619    40.261884\n",
       "std     734.438784    14.605510\n",
       "min       1.000000    15.000000\n",
       "25%     666.250000    28.000000\n",
       "50%    1281.500000    41.000000\n",
       "75%    1894.750000    53.000000\n",
       "max    2672.000000    65.000000"
      ]
     },
     "execution_count": 52,
     "metadata": {},
     "output_type": "execute_result"
    }
   ],
   "source": [
    "clientes.describe()"
   ]
  },
  {
   "cell_type": "markdown",
   "metadata": {},
   "source": [
    "Tabla Sucursales:"
   ]
  },
  {
   "cell_type": "code",
   "execution_count": 12,
   "metadata": {},
   "outputs": [],
   "source": [
    "#Renombramiento de columna\n",
    "sucursales.columns = [\"IdSucursal\",\"Sucursal\",\"Direccion\",\"Localidad\",\"Provincia\",\"Latitud\",\"Longitud\"]\n",
    "\n",
    "#Normalización Localidad Provincia\n",
    "sucursales['Localidad']= sucursales['Localidad'].replace([\"Ciudad de Buenos Aires\"],\"CABA\")\n",
    "sucursales['Localidad']= sucursales['Localidad'].replace([\"Capital\"],\"CABA\")\n",
    "sucursales['Localidad']= sucursales['Localidad'].replace([\"Capital Federal\"],\"CABA\")\n",
    "sucursales['Localidad']= sucursales['Localidad'].replace([\"CapFed\"],\"CABA\")\n",
    "sucursales['Localidad']= sucursales['Localidad'].replace([\"Cap. Fed.\"],\"CABA\")\n",
    "sucursales['Localidad']= sucursales['Localidad'].replace([\"Cap. Federal\t\"],\"CABA\")\n",
    "sucursales['Localidad']= sucursales['Localidad'].replace([\"Cap. Fed.\"],\"CABA\")\n",
    "sucursales['Localidad']= sucursales['Localidad'].replace([\"Cap. Federal\"],\"CABA\")\n",
    "sucursales['Localidad']= sucursales['Localidad'].replace([\"Cdad de Buenos Aires\"],\"CABA\")\n",
    "sucursales['Localidad']= sucursales['Localidad'].replace([\"Coroba\"],\"Córdoba\")\n",
    "sucursales['Localidad']= sucursales['Localidad'].replace([\"Cordoba\"],\"Córdoba\")\n",
    "\n",
    "sucursales['Provincia']= sucursales['Provincia'].replace([\"Ciudad de Buenos Aires\"],\"CABA\")\n",
    "sucursales['Provincia']= sucursales['Provincia'].replace([\"C deBuenos Aires\"],\"CABA\")\n",
    "sucursales['Provincia']= sucursales['Provincia'].replace([\"Bs As\"],\"CABA\")\n",
    "sucursales['Provincia']= sucursales['Provincia'].replace([\"Bs.As.\"],\"CABA\")\n",
    "sucursales['Provincia']= sucursales['Provincia'].replace([\"Bs.As.\t\"],\"CABA\")\n",
    "sucursales['Provincia']= sucursales['Provincia'].replace([\"B. Aires\"],\"Buenos Aires\")\n",
    "sucursales['Provincia']= sucursales['Provincia'].replace([\"Provincia de Buenos Aires\"],\"Buenos Aires\")\n",
    "sucursales['Provincia']= sucursales['Provincia'].replace([\"Prov de Bs As.\"],\"Buenos Aires\")\n",
    "sucursales['Provincia']= sucursales['Provincia'].replace([\"Pcia Bs AS\"],\"Buenos Aires\")\n",
    "sucursales['Provincia']= sucursales['Provincia'].replace([\"Cordoba\"],\"Córdoba\")\n",
    "\n"
   ]
  },
  {
   "cell_type": "markdown",
   "metadata": {},
   "source": [
    "Tabla compras:"
   ]
  },
  {
   "cell_type": "code",
   "execution_count": 50,
   "metadata": {},
   "outputs": [
    {
     "data": {
      "text/plain": [
       "IdCompra           0\n",
       "Fecha              0\n",
       "Fecha_Año          0\n",
       "Fecha_Mes          0\n",
       "Fecha_Periodo      0\n",
       "IdProducto         0\n",
       "Cantidad           0\n",
       "Precio           367\n",
       "IdProveedor        0\n",
       "dtype: int64"
      ]
     },
     "execution_count": 50,
     "metadata": {},
     "output_type": "execute_result"
    }
   ],
   "source": [
    "#Imputación de valores faltantes\n",
    "compras[\"Precio\"] = compras[\"Precio\"]\n",
    "compras.isnull().sum()\n"
   ]
  },
  {
   "cell_type": "code",
   "execution_count": 25,
   "metadata": {},
   "outputs": [
    {
     "name": "stderr",
     "output_type": "stream",
     "text": [
      "c:\\Users\\Facu\\AppData\\Local\\Programs\\Python\\Python310\\lib\\site-packages\\seaborn\\_decorators.py:36: FutureWarning: Pass the following variable as a keyword arg: x. From version 0.12, the only valid positional argument will be `data`, and passing other arguments without an explicit keyword will result in an error or misinterpretation.\n",
      "  warnings.warn(\n"
     ]
    },
    {
     "data": {
      "text/plain": [
       "<AxesSubplot:xlabel='Cantidad'>"
      ]
     },
     "execution_count": 25,
     "metadata": {},
     "output_type": "execute_result"
    },
    {
     "data": {
      "image/png": "[encoded data removed]",
      "text/plain": [
       "<Figure size 432x288 with 1 Axes>"
      ]
     },
     "metadata": {
      "needs_background": "light"
     },
     "output_type": "display_data"
    }
   ],
   "source": [
    "sns.boxplot(compras['Cantidad'])"
   ]
  },
  {
   "cell_type": "code",
   "execution_count": 19,
   "metadata": {},
   "outputs": [
    {
     "data": {
      "text/html": [
       "<div>\n",
       "<style scoped>\n",
       "    .dataframe tbody tr th:only-of-type {\n",
       "        vertical-align: middle;\n",
       "    }\n",
       "\n",
       "    .dataframe tbody tr th {\n",
       "        vertical-align: top;\n",
       "    }\n",
       "\n",
       "    .dataframe thead th {\n",
       "        text-align: right;\n",
       "    }\n",
       "</style>\n",
       "<table border=\"1\" class=\"dataframe\">\n",
       "  <thead>\n",
       "    <tr style=\"text-align: right;\">\n",
       "      <th></th>\n",
       "      <th>IdCompra</th>\n",
       "      <th>Fecha</th>\n",
       "      <th>Fecha_Año</th>\n",
       "      <th>Fecha_Mes</th>\n",
       "      <th>Fecha_Periodo</th>\n",
       "      <th>IdProducto</th>\n",
       "      <th>Cantidad</th>\n",
       "      <th>Precio</th>\n",
       "      <th>IdProveedor</th>\n",
       "    </tr>\n",
       "  </thead>\n",
       "  <tbody>\n",
       "    <tr>\n",
       "      <th>0</th>\n",
       "      <td>1</td>\n",
       "      <td>1/30/2015</td>\n",
       "      <td>2015</td>\n",
       "      <td>1</td>\n",
       "      <td>201501</td>\n",
       "      <td>42832</td>\n",
       "      <td>13</td>\n",
       "      <td>560.51</td>\n",
       "      <td>12</td>\n",
       "    </tr>\n",
       "    <tr>\n",
       "      <th>1</th>\n",
       "      <td>2</td>\n",
       "      <td>1/30/2015</td>\n",
       "      <td>2015</td>\n",
       "      <td>1</td>\n",
       "      <td>201501</td>\n",
       "      <td>42833</td>\n",
       "      <td>11</td>\n",
       "      <td>497.58</td>\n",
       "      <td>7</td>\n",
       "    </tr>\n",
       "    <tr>\n",
       "      <th>2</th>\n",
       "      <td>3</td>\n",
       "      <td>1/30/2015</td>\n",
       "      <td>2015</td>\n",
       "      <td>1</td>\n",
       "      <td>201501</td>\n",
       "      <td>42834</td>\n",
       "      <td>1</td>\n",
       "      <td>588.50</td>\n",
       "      <td>6</td>\n",
       "    </tr>\n",
       "    <tr>\n",
       "      <th>3</th>\n",
       "      <td>4</td>\n",
       "      <td>1/30/2015</td>\n",
       "      <td>2015</td>\n",
       "      <td>1</td>\n",
       "      <td>201501</td>\n",
       "      <td>42835</td>\n",
       "      <td>9</td>\n",
       "      <td>567.66</td>\n",
       "      <td>14</td>\n",
       "    </tr>\n",
       "    <tr>\n",
       "      <th>4</th>\n",
       "      <td>5</td>\n",
       "      <td>1/30/2015</td>\n",
       "      <td>2015</td>\n",
       "      <td>1</td>\n",
       "      <td>201501</td>\n",
       "      <td>42839</td>\n",
       "      <td>14</td>\n",
       "      <td>231.31</td>\n",
       "      <td>2</td>\n",
       "    </tr>\n",
       "  </tbody>\n",
       "</table>\n",
       "</div>"
      ],
      "text/plain": [
       "   IdCompra      Fecha  Fecha_Año  Fecha_Mes  Fecha_Periodo  IdProducto  \\\n",
       "0         1  1/30/2015       2015          1         201501       42832   \n",
       "1         2  1/30/2015       2015          1         201501       42833   \n",
       "2         3  1/30/2015       2015          1         201501       42834   \n",
       "3         4  1/30/2015       2015          1         201501       42835   \n",
       "4         5  1/30/2015       2015          1         201501       42839   \n",
       "\n",
       "   Cantidad  Precio  IdProveedor  \n",
       "0        13  560.51           12  \n",
       "1        11  497.58            7  \n",
       "2         1  588.50            6  \n",
       "3         9  567.66           14  \n",
       "4        14  231.31            2  "
      ]
     },
     "execution_count": 19,
     "metadata": {},
     "output_type": "execute_result"
    }
   ],
   "source": [
    "compras.head(5)"
   ]
  },
  {
   "cell_type": "code",
   "execution_count": 27,
   "metadata": {},
   "outputs": [
    {
     "data": {
      "text/html": [
       "<div>\n",
       "<style scoped>\n",
       "    .dataframe tbody tr th:only-of-type {\n",
       "        vertical-align: middle;\n",
       "    }\n",
       "\n",
       "    .dataframe tbody tr th {\n",
       "        vertical-align: top;\n",
       "    }\n",
       "\n",
       "    .dataframe thead th {\n",
       "        text-align: right;\n",
       "    }\n",
       "</style>\n",
       "<table border=\"1\" class=\"dataframe\">\n",
       "  <thead>\n",
       "    <tr style=\"text-align: right;\">\n",
       "      <th></th>\n",
       "      <th>IdCompra</th>\n",
       "      <th>Fecha_Año</th>\n",
       "      <th>Fecha_Mes</th>\n",
       "      <th>Fecha_Periodo</th>\n",
       "      <th>IdProducto</th>\n",
       "      <th>Cantidad</th>\n",
       "      <th>Precio</th>\n",
       "      <th>IdProveedor</th>\n",
       "    </tr>\n",
       "  </thead>\n",
       "  <tbody>\n",
       "    <tr>\n",
       "      <th>count</th>\n",
       "      <td>11539.000000</td>\n",
       "      <td>11539.000000</td>\n",
       "      <td>11539.000000</td>\n",
       "      <td>11539.000000</td>\n",
       "      <td>11539.000000</td>\n",
       "      <td>11539.000000</td>\n",
       "      <td>1.117200e+04</td>\n",
       "      <td>11539.000000</td>\n",
       "    </tr>\n",
       "    <tr>\n",
       "      <th>mean</th>\n",
       "      <td>5770.000000</td>\n",
       "      <td>2017.671549</td>\n",
       "      <td>4.570500</td>\n",
       "      <td>201771.725366</td>\n",
       "      <td>42900.634890</td>\n",
       "      <td>8.826415</td>\n",
       "      <td>3.613647e+03</td>\n",
       "      <td>7.533928</td>\n",
       "    </tr>\n",
       "    <tr>\n",
       "      <th>std</th>\n",
       "      <td>3331.166713</td>\n",
       "      <td>1.770288</td>\n",
       "      <td>3.168731</td>\n",
       "      <td>177.830326</td>\n",
       "      <td>83.539532</td>\n",
       "      <td>6.412074</td>\n",
       "      <td>1.006630e+05</td>\n",
       "      <td>3.770609</td>\n",
       "    </tr>\n",
       "    <tr>\n",
       "      <th>min</th>\n",
       "      <td>1.000000</td>\n",
       "      <td>2015.000000</td>\n",
       "      <td>1.000000</td>\n",
       "      <td>201501.000000</td>\n",
       "      <td>42737.000000</td>\n",
       "      <td>1.000000</td>\n",
       "      <td>1.860000e+00</td>\n",
       "      <td>1.000000</td>\n",
       "    </tr>\n",
       "    <tr>\n",
       "      <th>25%</th>\n",
       "      <td>2885.500000</td>\n",
       "      <td>2016.000000</td>\n",
       "      <td>1.000000</td>\n",
       "      <td>201605.000000</td>\n",
       "      <td>42832.000000</td>\n",
       "      <td>4.000000</td>\n",
       "      <td>3.068300e+02</td>\n",
       "      <td>4.000000</td>\n",
       "    </tr>\n",
       "    <tr>\n",
       "      <th>50%</th>\n",
       "      <td>5770.000000</td>\n",
       "      <td>2018.000000</td>\n",
       "      <td>4.000000</td>\n",
       "      <td>201801.000000</td>\n",
       "      <td>42902.000000</td>\n",
       "      <td>7.000000</td>\n",
       "      <td>4.634850e+02</td>\n",
       "      <td>8.000000</td>\n",
       "    </tr>\n",
       "    <tr>\n",
       "      <th>75%</th>\n",
       "      <td>8654.500000</td>\n",
       "      <td>2019.000000</td>\n",
       "      <td>7.000000</td>\n",
       "      <td>201908.000000</td>\n",
       "      <td>42973.000000</td>\n",
       "      <td>12.000000</td>\n",
       "      <td>1.260322e+03</td>\n",
       "      <td>11.000000</td>\n",
       "    </tr>\n",
       "    <tr>\n",
       "      <th>max</th>\n",
       "      <td>11539.000000</td>\n",
       "      <td>2020.000000</td>\n",
       "      <td>12.000000</td>\n",
       "      <td>202012.000000</td>\n",
       "      <td>43043.000000</td>\n",
       "      <td>54.000000</td>\n",
       "      <td>1.044580e+07</td>\n",
       "      <td>14.000000</td>\n",
       "    </tr>\n",
       "  </tbody>\n",
       "</table>\n",
       "</div>"
      ],
      "text/plain": [
       "           IdCompra     Fecha_Año     Fecha_Mes  Fecha_Periodo    IdProducto  \\\n",
       "count  11539.000000  11539.000000  11539.000000   11539.000000  11539.000000   \n",
       "mean    5770.000000   2017.671549      4.570500  201771.725366  42900.634890   \n",
       "std     3331.166713      1.770288      3.168731     177.830326     83.539532   \n",
       "min        1.000000   2015.000000      1.000000  201501.000000  42737.000000   \n",
       "25%     2885.500000   2016.000000      1.000000  201605.000000  42832.000000   \n",
       "50%     5770.000000   2018.000000      4.000000  201801.000000  42902.000000   \n",
       "75%     8654.500000   2019.000000      7.000000  201908.000000  42973.000000   \n",
       "max    11539.000000   2020.000000     12.000000  202012.000000  43043.000000   \n",
       "\n",
       "           Cantidad        Precio   IdProveedor  \n",
       "count  11539.000000  1.117200e+04  11539.000000  \n",
       "mean       8.826415  3.613647e+03      7.533928  \n",
       "std        6.412074  1.006630e+05      3.770609  \n",
       "min        1.000000  1.860000e+00      1.000000  \n",
       "25%        4.000000  3.068300e+02      4.000000  \n",
       "50%        7.000000  4.634850e+02      8.000000  \n",
       "75%       12.000000  1.260322e+03     11.000000  \n",
       "max       54.000000  1.044580e+07     14.000000  "
      ]
     },
     "execution_count": 27,
     "metadata": {},
     "output_type": "execute_result"
    }
   ],
   "source": [
    "compras.describe()"
   ]
  },
  {
   "cell_type": "code",
   "execution_count": 60,
   "metadata": {},
   "outputs": [
    {
     "data": {
      "text/plain": [
       "179"
      ]
     },
     "execution_count": 60,
     "metadata": {},
     "output_type": "execute_result"
    }
   ],
   "source": [
    "# Z score\n",
    "from scipy import stats\n",
    " \n",
    "z_compras_cantidad = np.abs(stats.zscore(compras['Cantidad']))\n",
    "\n",
    "# Cantidad de valores con desviación estandar superior a 3:\n",
    "\n",
    "threshold = 3\n",
    " \n",
    "z_compras_cantidad_err = np.where(z_compras_cantidad > 3)\n",
    "\n",
    "np.count_nonzero(z_compras_cantidad_err, axis=None)"
   ]
  },
  {
   "cell_type": "markdown",
   "metadata": {},
   "source": [
    "Tabla Gastos:"
   ]
  },
  {
   "cell_type": "code",
   "execution_count": 115,
   "metadata": {},
   "outputs": [
    {
     "data": {
      "text/plain": [
       "IdGasto        0\n",
       "IdSucursal     0\n",
       "IdTipoGasto    0\n",
       "Fecha          0\n",
       "Monto          0\n",
       "dtype: int64"
      ]
     },
     "execution_count": 115,
     "metadata": {},
     "output_type": "execute_result"
    }
   ],
   "source": [
    "gastos.isnull().sum()"
   ]
  },
  {
   "cell_type": "code",
   "execution_count": 28,
   "metadata": {},
   "outputs": [
    {
     "data": {
      "text/html": [
       "<div>\n",
       "<style scoped>\n",
       "    .dataframe tbody tr th:only-of-type {\n",
       "        vertical-align: middle;\n",
       "    }\n",
       "\n",
       "    .dataframe tbody tr th {\n",
       "        vertical-align: top;\n",
       "    }\n",
       "\n",
       "    .dataframe thead th {\n",
       "        text-align: right;\n",
       "    }\n",
       "</style>\n",
       "<table border=\"1\" class=\"dataframe\">\n",
       "  <thead>\n",
       "    <tr style=\"text-align: right;\">\n",
       "      <th></th>\n",
       "      <th>IdGasto</th>\n",
       "      <th>IdSucursal</th>\n",
       "      <th>IdTipoGasto</th>\n",
       "      <th>Monto</th>\n",
       "    </tr>\n",
       "  </thead>\n",
       "  <tbody>\n",
       "    <tr>\n",
       "      <th>count</th>\n",
       "      <td>8640.000000</td>\n",
       "      <td>8640.000000</td>\n",
       "      <td>8640.000000</td>\n",
       "      <td>8640.000000</td>\n",
       "    </tr>\n",
       "    <tr>\n",
       "      <th>mean</th>\n",
       "      <td>4320.500000</td>\n",
       "      <td>15.600000</td>\n",
       "      <td>2.500000</td>\n",
       "      <td>659.919324</td>\n",
       "    </tr>\n",
       "    <tr>\n",
       "      <th>std</th>\n",
       "      <td>2494.297496</td>\n",
       "      <td>8.815649</td>\n",
       "      <td>1.118099</td>\n",
       "      <td>448.630839</td>\n",
       "    </tr>\n",
       "    <tr>\n",
       "      <th>min</th>\n",
       "      <td>1.000000</td>\n",
       "      <td>1.000000</td>\n",
       "      <td>1.000000</td>\n",
       "      <td>100.000000</td>\n",
       "    </tr>\n",
       "    <tr>\n",
       "      <th>25%</th>\n",
       "      <td>2160.750000</td>\n",
       "      <td>8.000000</td>\n",
       "      <td>1.750000</td>\n",
       "      <td>255.022500</td>\n",
       "    </tr>\n",
       "    <tr>\n",
       "      <th>50%</th>\n",
       "      <td>4320.500000</td>\n",
       "      <td>15.500000</td>\n",
       "      <td>2.500000</td>\n",
       "      <td>679.990000</td>\n",
       "    </tr>\n",
       "    <tr>\n",
       "      <th>75%</th>\n",
       "      <td>6480.250000</td>\n",
       "      <td>23.000000</td>\n",
       "      <td>3.250000</td>\n",
       "      <td>1100.522500</td>\n",
       "    </tr>\n",
       "    <tr>\n",
       "      <th>max</th>\n",
       "      <td>8640.000000</td>\n",
       "      <td>31.000000</td>\n",
       "      <td>4.000000</td>\n",
       "      <td>1199.880000</td>\n",
       "    </tr>\n",
       "  </tbody>\n",
       "</table>\n",
       "</div>"
      ],
      "text/plain": [
       "           IdGasto   IdSucursal  IdTipoGasto        Monto\n",
       "count  8640.000000  8640.000000  8640.000000  8640.000000\n",
       "mean   4320.500000    15.600000     2.500000   659.919324\n",
       "std    2494.297496     8.815649     1.118099   448.630839\n",
       "min       1.000000     1.000000     1.000000   100.000000\n",
       "25%    2160.750000     8.000000     1.750000   255.022500\n",
       "50%    4320.500000    15.500000     2.500000   679.990000\n",
       "75%    6480.250000    23.000000     3.250000  1100.522500\n",
       "max    8640.000000    31.000000     4.000000  1199.880000"
      ]
     },
     "execution_count": 28,
     "metadata": {},
     "output_type": "execute_result"
    }
   ],
   "source": [
    "gastos.describe()"
   ]
  },
  {
   "cell_type": "code",
   "execution_count": 29,
   "metadata": {},
   "outputs": [
    {
     "name": "stderr",
     "output_type": "stream",
     "text": [
      "c:\\Users\\Facu\\AppData\\Local\\Programs\\Python\\Python310\\lib\\site-packages\\seaborn\\_decorators.py:36: FutureWarning: Pass the following variable as a keyword arg: x. From version 0.12, the only valid positional argument will be `data`, and passing other arguments without an explicit keyword will result in an error or misinterpretation.\n",
      "  warnings.warn(\n"
     ]
    },
    {
     "data": {
      "text/plain": [
       "<AxesSubplot:xlabel='Monto'>"
      ]
     },
     "execution_count": 29,
     "metadata": {},
     "output_type": "execute_result"
    },
    {
     "data": {
      "image/png": "[encoded data removed]",
      "text/plain": [
       "<Figure size 432x288 with 1 Axes>"
      ]
     },
     "metadata": {
      "needs_background": "light"
     },
     "output_type": "display_data"
    }
   ],
   "source": [
    "sns.boxplot(gastos['Monto'])"
   ]
  },
  {
   "cell_type": "code",
   "execution_count": 59,
   "metadata": {},
   "outputs": [
    {
     "data": {
      "text/plain": [
       "0"
      ]
     },
     "execution_count": 59,
     "metadata": {},
     "output_type": "execute_result"
    }
   ],
   "source": [
    "# Z score\n",
    " \n",
    "z_gastos_monto = np.abs(stats.zscore(gastos[\"Monto\"]))\n",
    "\n",
    "# Cantidad de valores con desviación estandar superior a 3:\n",
    "\n",
    "threshold = 3\n",
    " \n",
    "z_gastos_monto_err = np.where(z_gastos_monto > 3)\n",
    "\n",
    "np.count_nonzero(z_gastos_monto_err, axis=None)"
   ]
  },
  {
   "cell_type": "markdown",
   "metadata": {},
   "source": [
    "Tabla proveedores:"
   ]
  },
  {
   "cell_type": "code",
   "execution_count": 117,
   "metadata": {},
   "outputs": [
    {
     "data": {
      "text/html": [
       "<div>\n",
       "<style scoped>\n",
       "    .dataframe tbody tr th:only-of-type {\n",
       "        vertical-align: middle;\n",
       "    }\n",
       "\n",
       "    .dataframe tbody tr th {\n",
       "        vertical-align: top;\n",
       "    }\n",
       "\n",
       "    .dataframe thead th {\n",
       "        text-align: right;\n",
       "    }\n",
       "</style>\n",
       "<table border=\"1\" class=\"dataframe\">\n",
       "  <thead>\n",
       "    <tr style=\"text-align: right;\">\n",
       "      <th></th>\n",
       "      <th>Idproveedor</th>\n",
       "      <th>Nombre</th>\n",
       "      <th>Direccion</th>\n",
       "      <th>Localidad</th>\n",
       "      <th>Provincia</th>\n",
       "      <th>Pais</th>\n",
       "    </tr>\n",
       "  </thead>\n",
       "  <tbody>\n",
       "    <tr>\n",
       "      <th>0</th>\n",
       "      <td>1</td>\n",
       "      <td>Sin dato</td>\n",
       "      <td>Bereguestein 36</td>\n",
       "      <td>Avellaneda</td>\n",
       "      <td>Buenos Aires</td>\n",
       "      <td>Argentina</td>\n",
       "    </tr>\n",
       "    <tr>\n",
       "      <th>1</th>\n",
       "      <td>2</td>\n",
       "      <td>San Cirano</td>\n",
       "      <td>Alberti 965</td>\n",
       "      <td>Coronel Brandsen</td>\n",
       "      <td>Buenos Aires</td>\n",
       "      <td>Argentina</td>\n",
       "    </tr>\n",
       "    <tr>\n",
       "      <th>2</th>\n",
       "      <td>3</td>\n",
       "      <td>Bell S.A.</td>\n",
       "      <td>Moreno 331</td>\n",
       "      <td>Campana</td>\n",
       "      <td>Buenos Aires</td>\n",
       "      <td>Argentina</td>\n",
       "    </tr>\n",
       "    <tr>\n",
       "      <th>3</th>\n",
       "      <td>4</td>\n",
       "      <td>Rivero Insumos</td>\n",
       "      <td>Pte. Peron 3872</td>\n",
       "      <td>Valentin Alsina</td>\n",
       "      <td>Buenos Aires</td>\n",
       "      <td>Argentina</td>\n",
       "    </tr>\n",
       "    <tr>\n",
       "      <th>4</th>\n",
       "      <td>5</td>\n",
       "      <td>Laprida Computacion</td>\n",
       "      <td>Avda. Pedro Pereyra 1339</td>\n",
       "      <td>Laprida</td>\n",
       "      <td>Buenos Aires</td>\n",
       "      <td>Argentina</td>\n",
       "    </tr>\n",
       "  </tbody>\n",
       "</table>\n",
       "</div>"
      ],
      "text/plain": [
       "   Idproveedor               Nombre                 Direccion  \\\n",
       "0            1             Sin dato           Bereguestein 36   \n",
       "1            2           San Cirano               Alberti 965   \n",
       "2            3            Bell S.A.                Moreno 331   \n",
       "3            4       Rivero Insumos           Pte. Peron 3872   \n",
       "4            5  Laprida Computacion  Avda. Pedro Pereyra 1339   \n",
       "\n",
       "          Localidad     Provincia       Pais  \n",
       "0        Avellaneda  Buenos Aires  Argentina  \n",
       "1  Coronel Brandsen  Buenos Aires  Argentina  \n",
       "2           Campana  Buenos Aires  Argentina  \n",
       "3   Valentin Alsina  Buenos Aires  Argentina  \n",
       "4           Laprida  Buenos Aires  Argentina  "
      ]
     },
     "execution_count": 117,
     "metadata": {},
     "output_type": "execute_result"
    }
   ],
   "source": [
    "#Eliminación de la columna departamen\n",
    "proveedores = proveedores.drop(\"departamen\",axis=1)\n",
    "\n",
    "#Renombramiento de columnas \n",
    "proveedores.columns = [\"Idproveedor\",\"Nombre\",\"Direccion\",\"Localidad\",\"Provincia\",\"Pais\"]\n",
    "\n",
    "#Imputación de valores faltantes\n",
    "proveedores[\"Nombre\"].fillna(\"Sin dato\", inplace=True)\n",
    "\n",
    "#Normalizacion a Letra Capital\n",
    "proveedores[\"Direccion\"] = proveedores[\"Direccion\"].str.title() \n",
    "proveedores[\"Localidad\"] = proveedores[\"Localidad\"].str.title()\n",
    "proveedores[\"Provincia\"] = proveedores[\"Provincia\"].str.title()\n",
    "proveedores[\"Pais\"] = proveedores[\"Pais\"].str.title()\n",
    "\n",
    "proveedores.head(5)"
   ]
  },
  {
   "cell_type": "code",
   "execution_count": 118,
   "metadata": {},
   "outputs": [
    {
     "data": {
      "text/plain": [
       "Idproveedor    0\n",
       "Nombre         0\n",
       "Direccion      0\n",
       "Localidad      0\n",
       "Provincia      0\n",
       "Pais           0\n",
       "dtype: int64"
      ]
     },
     "execution_count": 118,
     "metadata": {},
     "output_type": "execute_result"
    }
   ],
   "source": [
    "proveedores.isnull().sum()"
   ]
  },
  {
   "cell_type": "markdown",
   "metadata": {},
   "source": [
    "Tabla Ventas:"
   ]
  },
  {
   "cell_type": "code",
   "execution_count": 56,
   "metadata": {},
   "outputs": [
    {
     "data": {
      "text/plain": [
       "IdVenta          0\n",
       "Fecha            0\n",
       "Fecha_Entrega    0\n",
       "IdCanal          0\n",
       "IdCliente        0\n",
       "IdSucursal       0\n",
       "IdEmpleado       0\n",
       "IdProducto       0\n",
       "Precio           0\n",
       "Cantidad         0\n",
       "dtype: int64"
      ]
     },
     "execution_count": 56,
     "metadata": {},
     "output_type": "execute_result"
    }
   ],
   "source": [
    "#Imputación de valores faltantes\n",
    "ventas[\"Precio\"].fillna(0, inplace=True)\n",
    "ventas[\"Cantidad\"].fillna(0, inplace=True)\n",
    "\n",
    "ventas.isnull().sum()"
   ]
  },
  {
   "cell_type": "code",
   "execution_count": 65,
   "metadata": {},
   "outputs": [
    {
     "name": "stdout",
     "output_type": "stream",
     "text": [
      "<class 'pandas.core.frame.DataFrame'>\n",
      "RangeIndex: 46180 entries, 0 to 46179\n",
      "Data columns (total 10 columns):\n",
      " #   Column         Non-Null Count  Dtype  \n",
      "---  ------         --------------  -----  \n",
      " 0   IdVenta        46180 non-null  int64  \n",
      " 1   Fecha          46180 non-null  object \n",
      " 2   Fecha_Entrega  46180 non-null  object \n",
      " 3   IdCanal        46180 non-null  int64  \n",
      " 4   IdCliente      46180 non-null  int64  \n",
      " 5   IdSucursal     46180 non-null  int64  \n",
      " 6   IdEmpleado     46180 non-null  int64  \n",
      " 7   IdProducto     46180 non-null  int64  \n",
      " 8   Precio         45260 non-null  float64\n",
      " 9   Cantidad       45296 non-null  float64\n",
      "dtypes: float64(2), int64(6), object(2)\n",
      "memory usage: 3.5+ MB\n"
     ]
    }
   ],
   "source": [
    "ventas.info()"
   ]
  },
  {
   "cell_type": "code",
   "execution_count": 67,
   "metadata": {},
   "outputs": [
    {
     "data": {
      "text/html": [
       "<div>\n",
       "<style scoped>\n",
       "    .dataframe tbody tr th:only-of-type {\n",
       "        vertical-align: middle;\n",
       "    }\n",
       "\n",
       "    .dataframe tbody tr th {\n",
       "        vertical-align: top;\n",
       "    }\n",
       "\n",
       "    .dataframe thead th {\n",
       "        text-align: right;\n",
       "    }\n",
       "</style>\n",
       "<table border=\"1\" class=\"dataframe\">\n",
       "  <thead>\n",
       "    <tr style=\"text-align: right;\">\n",
       "      <th></th>\n",
       "      <th>IdVenta</th>\n",
       "      <th>IdCanal</th>\n",
       "      <th>IdCliente</th>\n",
       "      <th>IdSucursal</th>\n",
       "      <th>IdEmpleado</th>\n",
       "      <th>IdProducto</th>\n",
       "      <th>Precio</th>\n",
       "      <th>Cantidad</th>\n",
       "    </tr>\n",
       "  </thead>\n",
       "  <tbody>\n",
       "    <tr>\n",
       "      <th>count</th>\n",
       "      <td>46180.000000</td>\n",
       "      <td>46180.000000</td>\n",
       "      <td>46180.000000</td>\n",
       "      <td>46180.000000</td>\n",
       "      <td>46180.000000</td>\n",
       "      <td>46180.000000</td>\n",
       "      <td>4.526000e+04</td>\n",
       "      <td>45296.000000</td>\n",
       "    </tr>\n",
       "    <tr>\n",
       "      <th>mean</th>\n",
       "      <td>23151.534279</td>\n",
       "      <td>2.018038</td>\n",
       "      <td>1502.635232</td>\n",
       "      <td>14.782352</td>\n",
       "      <td>2488.830858</td>\n",
       "      <td>42901.264379</td>\n",
       "      <td>5.876587e+03</td>\n",
       "      <td>2.388246</td>\n",
       "    </tr>\n",
       "    <tr>\n",
       "      <th>std</th>\n",
       "      <td>13432.585938</td>\n",
       "      <td>0.745254</td>\n",
       "      <td>972.536404</td>\n",
       "      <td>8.876539</td>\n",
       "      <td>960.231933</td>\n",
       "      <td>83.588487</td>\n",
       "      <td>2.510651e+05</td>\n",
       "      <td>3.562045</td>\n",
       "    </tr>\n",
       "    <tr>\n",
       "      <th>min</th>\n",
       "      <td>1.000000</td>\n",
       "      <td>1.000000</td>\n",
       "      <td>1.000000</td>\n",
       "      <td>1.000000</td>\n",
       "      <td>1011.000000</td>\n",
       "      <td>42737.000000</td>\n",
       "      <td>3.000000e+00</td>\n",
       "      <td>1.000000</td>\n",
       "    </tr>\n",
       "    <tr>\n",
       "      <th>25%</th>\n",
       "      <td>11545.750000</td>\n",
       "      <td>1.000000</td>\n",
       "      <td>691.000000</td>\n",
       "      <td>7.000000</td>\n",
       "      <td>1574.000000</td>\n",
       "      <td>42833.000000</td>\n",
       "      <td>4.380000e+02</td>\n",
       "      <td>2.000000</td>\n",
       "    </tr>\n",
       "    <tr>\n",
       "      <th>50%</th>\n",
       "      <td>23090.500000</td>\n",
       "      <td>2.000000</td>\n",
       "      <td>1359.000000</td>\n",
       "      <td>15.000000</td>\n",
       "      <td>2468.000000</td>\n",
       "      <td>42902.000000</td>\n",
       "      <td>6.540000e+02</td>\n",
       "      <td>2.000000</td>\n",
       "    </tr>\n",
       "    <tr>\n",
       "      <th>75%</th>\n",
       "      <td>34635.250000</td>\n",
       "      <td>3.000000</td>\n",
       "      <td>2273.000000</td>\n",
       "      <td>23.000000</td>\n",
       "      <td>3433.000000</td>\n",
       "      <td>42974.000000</td>\n",
       "      <td>1.789000e+03</td>\n",
       "      <td>3.000000</td>\n",
       "    </tr>\n",
       "    <tr>\n",
       "      <th>max</th>\n",
       "      <td>47600.000000</td>\n",
       "      <td>3.000000</td>\n",
       "      <td>3407.000000</td>\n",
       "      <td>31.000000</td>\n",
       "      <td>3979.000000</td>\n",
       "      <td>43043.000000</td>\n",
       "      <td>3.373920e+07</td>\n",
       "      <td>300.000000</td>\n",
       "    </tr>\n",
       "  </tbody>\n",
       "</table>\n",
       "</div>"
      ],
      "text/plain": [
       "            IdVenta       IdCanal     IdCliente    IdSucursal    IdEmpleado  \\\n",
       "count  46180.000000  46180.000000  46180.000000  46180.000000  46180.000000   \n",
       "mean   23151.534279      2.018038   1502.635232     14.782352   2488.830858   \n",
       "std    13432.585938      0.745254    972.536404      8.876539    960.231933   \n",
       "min        1.000000      1.000000      1.000000      1.000000   1011.000000   \n",
       "25%    11545.750000      1.000000    691.000000      7.000000   1574.000000   \n",
       "50%    23090.500000      2.000000   1359.000000     15.000000   2468.000000   \n",
       "75%    34635.250000      3.000000   2273.000000     23.000000   3433.000000   \n",
       "max    47600.000000      3.000000   3407.000000     31.000000   3979.000000   \n",
       "\n",
       "         IdProducto        Precio      Cantidad  \n",
       "count  46180.000000  4.526000e+04  45296.000000  \n",
       "mean   42901.264379  5.876587e+03      2.388246  \n",
       "std       83.588487  2.510651e+05      3.562045  \n",
       "min    42737.000000  3.000000e+00      1.000000  \n",
       "25%    42833.000000  4.380000e+02      2.000000  \n",
       "50%    42902.000000  6.540000e+02      2.000000  \n",
       "75%    42974.000000  1.789000e+03      3.000000  \n",
       "max    43043.000000  3.373920e+07    300.000000  "
      ]
     },
     "execution_count": 67,
     "metadata": {},
     "output_type": "execute_result"
    }
   ],
   "source": [
    "ventas.describe()"
   ]
  },
  {
   "cell_type": "code",
   "execution_count": 63,
   "metadata": {},
   "outputs": [
    {
     "data": {
      "text/plain": [
       "0"
      ]
     },
     "execution_count": 63,
     "metadata": {},
     "output_type": "execute_result"
    }
   ],
   "source": [
    "# Z score\n",
    " \n",
    "z_ventas_cant = np.abs(stats.zscore(ventas[\"Cantidad\"]))\n",
    "\n",
    "# Cantidad de valores con desviación estandar superior a 3:\n",
    "\n",
    "threshold = 3\n",
    " \n",
    "z_ventas_cant_err = np.where(z_ventas_cant > 3)\n",
    "\n",
    "np.count_nonzero(z_ventas_cant_err, axis=None)"
   ]
  }
 ],
 "metadata": {
  "kernelspec": {
   "display_name": "Python 3.10.2 64-bit",
   "language": "python",
   "name": "python3"
  },
  "language_info": {
   "codemirror_mode": {
    "name": "ipython",
    "version": 3
   },
   "file_extension": ".py",
   "mimetype": "text/x-python",
   "name": "python",
   "nbconvert_exporter": "python",
   "pygments_lexer": "ipython3",
   "version": "3.10.2"
  },
  "orig_nbformat": 4,
  "vscode": {
   "interpreter": {
    "hash": "b5d04f6d8a329d95987b154106802e5cf109483b394daa4f9d4f080f051e1734"
   }
  }
 },
 "nbformat": 4,
 "nbformat_minor": 2
}
